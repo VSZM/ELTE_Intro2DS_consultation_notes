{
 "cells": [
  {
   "cell_type": "code",
   "execution_count": null,
   "metadata": {},
   "outputs": [],
   "source": [
    "import pandas as pd\n",
    "import numpy as np\n",
    "import matplotlib.pyplot as plt\n",
    "import seaborn as sns\n",
    "%matplotlib inline\n",
    "\n",
    "import sklearn\n",
    "from sklearn.model_selection import train_test_split\n",
    "from sklearn import metrics\n",
    "from sklearn.metrics import classification_report\n",
    "\n",
    "pd.set_option('display.max_columns', 200)\n",
    "pd.set_option('display.max_rows', 200)\n",
    "\n"
   ]
  },
  {
   "cell_type": "code",
   "execution_count": null,
   "metadata": {},
   "outputs": [],
   "source": [
    "# For this excercise we do clustering on a multiclass 2d dataset.\n",
    "# Source: https://cs.joensuu.fi/sipu/datasets/ Aggregation shape\n",
    "\n",
    "ds = pd.read_csv('Aggregation.txt')\n",
    "ds = ds.sample(frac=1).reset_index(drop=True)\n",
    "\n",
    "ds.head()"
   ]
  },
  {
   "cell_type": "code",
   "execution_count": null,
   "metadata": {},
   "outputs": [],
   "source": [
    "ds.describe()\n",
    "# So we have 7 classes of coordinates on the plane"
   ]
  },
  {
   "cell_type": "code",
   "execution_count": null,
   "metadata": {},
   "outputs": [],
   "source": [
    "%%time\n",
    "# Let's visualize this!\n",
    "plt.figure(figsize = (20,20))\n",
    "\n",
    "sns.stripplot(data=ds, x='X', y='Y', hue='Group', size=15)"
   ]
  },
  {
   "cell_type": "code",
   "execution_count": null,
   "metadata": {},
   "outputs": [],
   "source": [
    "%%time\n",
    "# Let's try a simple KMeans clustering to identify our 7 groups\n",
    "\n",
    "from sklearn.cluster import KMeans\n",
    "\n",
    "ds_clustered = ds[['X','Y']]\n",
    "kmeans = KMeans(n_clusters=7, random_state=0)\n",
    "kmeans.fit(ds_clustered)\n",
    "\n",
    "ds_clustered['Group'] = kmeans.labels_\n",
    "\n",
    "\n",
    "plt.figure(figsize = (20,20))\n",
    "sns.stripplot(data=ds_clustered, x='X', y='Y', hue='Group', size=15)"
   ]
  },
  {
   "cell_type": "code",
   "execution_count": null,
   "metadata": {},
   "outputs": [],
   "source": [
    "%%time\n",
    "# So KMeans worked quite good, except for identifying the boundaries of group 4,5,7\n",
    "# Let's see another method, DBSCAN\n",
    "from sklearn.cluster import DBSCAN\n",
    "\n",
    "\n",
    "ds_clustered = ds[['X','Y']]\n",
    "# The success of dbscan lies in choosing the right epsilon and min_samples values.\n",
    "# Epsilon tells dscan what is the maximum euclidean distance we allow between neighbours,\n",
    "# and min_samples tells us how many neighbours are required to accept a point to a class.\n",
    "# These current settings are not perfect.\n",
    "# The problems are: \n",
    "#     - Group number 7 is not seperated from number 4\n",
    "#     - Group number 6 and 3 form one group\n",
    "dbscan = DBSCAN(eps=1.5, min_samples=3)\n",
    "dbscan.fit(ds_clustered)\n",
    "\n",
    "ds_clustered['Group'] = dbscan.labels_\n",
    "\n",
    "plt.figure(figsize = (20,20))\n",
    "sns.stripplot(data=ds_clustered, x='X', y='Y', hue='Group', size=15)"
   ]
  },
  {
   "cell_type": "code",
   "execution_count": null,
   "metadata": {},
   "outputs": [],
   "source": [
    "%%time\n",
    "# Let's take a look at AgglomerativeClustering\n",
    "\n",
    "from sklearn.cluster import AgglomerativeClustering\n",
    "\n",
    "ds_clustered = ds[['X','Y']]\n",
    "agglomerative = AgglomerativeClustering(n_clusters=7)\n",
    "agglomerative.fit(ds_clustered)\n",
    "\n",
    "ds_clustered['Group'] = agglomerative.labels_\n",
    "\n",
    "\n",
    "plt.figure(figsize = (20,20))\n",
    "sns.stripplot(data=ds_clustered, x='X', y='Y', hue='Group', size=15)\n",
    "# The problems are the same as with KMeans, but with more consistent results ie. Less random outliers."
   ]
  }
 ],
 "metadata": {
  "kernelspec": {
   "display_name": "Python 3",
   "language": "python",
   "name": "python3"
  },
  "language_info": {
   "codemirror_mode": {
    "name": "ipython",
    "version": 3
   },
   "file_extension": ".py",
   "mimetype": "text/x-python",
   "name": "python",
   "nbconvert_exporter": "python",
   "pygments_lexer": "ipython3",
   "version": "3.5.4"
  }
 },
 "nbformat": 4,
 "nbformat_minor": 2
}
